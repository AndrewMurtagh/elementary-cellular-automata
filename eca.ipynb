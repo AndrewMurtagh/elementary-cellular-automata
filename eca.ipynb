{
 "cells": [
  {
   "cell_type": "markdown",
   "id": "6809120c-490a-4bbe-8188-75f98d90ec0c",
   "metadata": {},
   "source": [
    "# Elementary Cellular Automata"
   ]
  },
  {
   "cell_type": "code",
   "execution_count": 8,
   "id": "cca4ab9a-0919-4599-a488-3f3bd4c72a53",
   "metadata": {},
   "outputs": [
    {
     "data": {
      "image/png": "[encoded data removed]",
      "text/plain": [
       "<Figure size 640x480 with 1 Axes>"
      ]
     },
     "metadata": {},
     "output_type": "display_data"
    }
   ],
   "source": [
    "import random\n",
    "import matplotlib.pyplot as plt\n",
    "\n",
    "NUM_CELLS = 101\n",
    "STEPS = 100\n",
    "INIT = [0] * NUM_CELLS\n",
    "INIT[NUM_CELLS//2] = 1\n",
    "\n",
    "# 150 62 30\n",
    "RULE = 30\n",
    "bits = format(RULE,'08b')\n",
    "\n",
    "rules = {\n",
    "        \"000\": int(bits[7]),\n",
    "        \"001\": int(bits[6]),\n",
    "        \"010\": int(bits[5]),\n",
    "        \"011\": int(bits[4]),\n",
    "        \"100\": int(bits[3]),\n",
    "        \"101\": int(bits[2]),\n",
    "        \"110\": int(bits[1]),\n",
    "        \"111\": int(bits[0]),\n",
    "}\n",
    "\n",
    "grid = []\n",
    "grid.append(INIT)\n",
    "\n",
    "def step_forward(prev_generation):\n",
    "    row = []\n",
    "    for i in range(NUM_CELLS):\n",
    "        prev = prev_generation[i-1]\n",
    "        above = prev_generation[i]\n",
    "        next = prev_generation[i+1] if i < len(prev_generation) -1 else prev_generation[0]\n",
    "        neighbourhood = [prev, above, next]\n",
    "        state = rules[str(prev) + str(above) + str(next)]\n",
    "        row.append(state)\n",
    "\n",
    "    return row\n",
    "\n",
    "for i in range(STEPS):\n",
    "    row = step_forward(grid[i])\n",
    "    grid.append(row)\n",
    "\n",
    "plt.imshow(grid, cmap=plt.cm.gray_r)\n",
    "plt.xlabel(f'Rule {RULE}')\n",
    "plt.xticks([])\n",
    "plt.yticks([])\n",
    "plt.show()"
   ]
  }
 ],
 "metadata": {
  "kernelspec": {
   "display_name": "Python 3 (ipykernel)",
   "language": "python",
   "name": "python3"
  },
  "language_info": {
   "codemirror_mode": {
    "name": "ipython",
    "version": 3
   },
   "file_extension": ".py",
   "mimetype": "text/x-python",
   "name": "python",
   "nbconvert_exporter": "python",
   "pygments_lexer": "ipython3",
   "version": "3.10.4"
  }
 },
 "nbformat": 4,
 "nbformat_minor": 5
}
